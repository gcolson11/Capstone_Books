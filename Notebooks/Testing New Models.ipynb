{
 "cells": [
  {
   "cell_type": "markdown",
   "metadata": {},
   "source": [
    "## Simple Recommender"
   ]
  },
  {
   "cell_type": "code",
   "execution_count": 1,
   "metadata": {},
   "outputs": [],
   "source": [
    "import pandas as pd"
   ]
  },
  {
   "cell_type": "code",
   "execution_count": 2,
   "metadata": {},
   "outputs": [],
   "source": [
    "ratings_file = '/Users/gregoryolson/Documents/Data Science CT/Capstone/Capstone_Books/Data/ratings_cleaned.csv'\n",
    "books_file = '/Users/gregoryolson/Documents/Data Science CT/Capstone/Capstone_Books/Data/books_cleaned.csv'\n",
    "\n",
    "ratings = pd.read_csv(ratings_file)\n",
    "books = pd.read_csv(books_file)"
   ]
  },
  {
   "cell_type": "code",
   "execution_count": 3,
   "metadata": {},
   "outputs": [
    {
     "name": "stdout",
     "output_type": "stream",
     "text": [
      "4.00183646786684\n"
     ]
    }
   ],
   "source": [
    "# calculate mean rating for all books\n",
    "C = books['average_rating'].mean()\n",
    "print(C)"
   ]
  },
  {
   "cell_type": "code",
   "execution_count": 4,
   "metadata": {},
   "outputs": [
    {
     "name": "stdout",
     "output_type": "stream",
     "text": [
      "94452.20000000001\n"
     ]
    }
   ],
   "source": [
    "# 90th percentile rating\n",
    "m = books['ratings_count'].quantile(0.90)\n",
    "print(m)"
   ]
  },
  {
   "cell_type": "code",
   "execution_count": 5,
   "metadata": {},
   "outputs": [
    {
     "data": {
      "text/plain": [
       "(995, 23)"
      ]
     },
     "execution_count": 5,
     "metadata": {},
     "output_type": "execute_result"
    }
   ],
   "source": [
    "# filter out all qualified books into a new DataFrame\n",
    "q_books = books.copy().loc[books['ratings_count'] >= m]\n",
    "q_books.shape"
   ]
  },
  {
   "cell_type": "code",
   "execution_count": 6,
   "metadata": {},
   "outputs": [
    {
     "data": {
      "text/plain": [
       "(9943, 23)"
      ]
     },
     "execution_count": 6,
     "metadata": {},
     "output_type": "execute_result"
    }
   ],
   "source": [
    "books.shape"
   ]
  },
  {
   "cell_type": "code",
   "execution_count": 7,
   "metadata": {},
   "outputs": [],
   "source": [
    "# function that computes the weighted rating of each book\n",
    "def weighted_rating(x, m=m, C=C):\n",
    "    v = x['ratings_count']\n",
    "    R = x['average_rating']\n",
    "    # Calculation based on the IMDB formula\n",
    "    return (v/(v+m) * R) + (m/(m+v) * C)"
   ]
  },
  {
   "cell_type": "code",
   "execution_count": 8,
   "metadata": {},
   "outputs": [],
   "source": [
    "# define a new feature 'score' and calculate its value with `weighted_rating()`\n",
    "q_books['score'] = q_books.apply(weighted_rating, axis=1)"
   ]
  },
  {
   "cell_type": "code",
   "execution_count": 10,
   "metadata": {},
   "outputs": [
    {
     "data": {
      "text/html": [
       "<div>\n",
       "<style scoped>\n",
       "    .dataframe tbody tr th:only-of-type {\n",
       "        vertical-align: middle;\n",
       "    }\n",
       "\n",
       "    .dataframe tbody tr th {\n",
       "        vertical-align: top;\n",
       "    }\n",
       "\n",
       "    .dataframe thead th {\n",
       "        text-align: right;\n",
       "    }\n",
       "</style>\n",
       "<table border=\"1\" class=\"dataframe\">\n",
       "  <thead>\n",
       "    <tr style=\"text-align: right;\">\n",
       "      <th></th>\n",
       "      <th>title</th>\n",
       "      <th>ratings_count</th>\n",
       "      <th>average_rating</th>\n",
       "      <th>score</th>\n",
       "    </tr>\n",
       "  </thead>\n",
       "  <tbody>\n",
       "    <tr>\n",
       "      <th>24</th>\n",
       "      <td>Harry Potter and the Deathly Hallows (Harry Po...</td>\n",
       "      <td>1746574</td>\n",
       "      <td>4.61</td>\n",
       "      <td>4.578799</td>\n",
       "    </tr>\n",
       "    <tr>\n",
       "      <th>26</th>\n",
       "      <td>Harry Potter and the Half-Blood Prince (Harry ...</td>\n",
       "      <td>1678823</td>\n",
       "      <td>4.54</td>\n",
       "      <td>4.511335</td>\n",
       "    </tr>\n",
       "    <tr>\n",
       "      <th>17</th>\n",
       "      <td>Harry Potter and the Prisoner of Azkaban (Harr...</td>\n",
       "      <td>1832823</td>\n",
       "      <td>4.53</td>\n",
       "      <td>4.504116</td>\n",
       "    </tr>\n",
       "    <tr>\n",
       "      <th>23</th>\n",
       "      <td>Harry Potter and the Goblet of Fire (Harry Pot...</td>\n",
       "      <td>1753043</td>\n",
       "      <td>4.53</td>\n",
       "      <td>4.502998</td>\n",
       "    </tr>\n",
       "    <tr>\n",
       "      <th>420</th>\n",
       "      <td>Harry Potter Boxset (Harry Potter, #1-7)</td>\n",
       "      <td>190050</td>\n",
       "      <td>4.74</td>\n",
       "      <td>4.494936</td>\n",
       "    </tr>\n",
       "    <tr>\n",
       "      <th>134</th>\n",
       "      <td>A Storm of Swords (A Song of Ice and Fire, #3)</td>\n",
       "      <td>469022</td>\n",
       "      <td>4.54</td>\n",
       "      <td>4.449790</td>\n",
       "    </tr>\n",
       "    <tr>\n",
       "      <th>191</th>\n",
       "      <td>The Name of the Wind (The Kingkiller Chronicle...</td>\n",
       "      <td>400101</td>\n",
       "      <td>4.55</td>\n",
       "      <td>4.445309</td>\n",
       "    </tr>\n",
       "    <tr>\n",
       "      <th>20</th>\n",
       "      <td>Harry Potter and the Order of the Phoenix (Har...</td>\n",
       "      <td>1735368</td>\n",
       "      <td>4.46</td>\n",
       "      <td>4.436350</td>\n",
       "    </tr>\n",
       "    <tr>\n",
       "      <th>1</th>\n",
       "      <td>Harry Potter and the Sorcerer's Stone (Harry P...</td>\n",
       "      <td>4602479</td>\n",
       "      <td>4.44</td>\n",
       "      <td>4.431189</td>\n",
       "    </tr>\n",
       "    <tr>\n",
       "      <th>160</th>\n",
       "      <td>The Return of the King (The Lord of the Rings,...</td>\n",
       "      <td>463959</td>\n",
       "      <td>4.51</td>\n",
       "      <td>4.424047</td>\n",
       "    </tr>\n",
       "    <tr>\n",
       "      <th>30</th>\n",
       "      <td>The Help</td>\n",
       "      <td>1531753</td>\n",
       "      <td>4.45</td>\n",
       "      <td>4.423970</td>\n",
       "    </tr>\n",
       "    <tr>\n",
       "      <th>38</th>\n",
       "      <td>A Game of Thrones (A Song of Ice and Fire, #1)</td>\n",
       "      <td>1319204</td>\n",
       "      <td>4.45</td>\n",
       "      <td>4.420056</td>\n",
       "    </tr>\n",
       "    <tr>\n",
       "      <th>305</th>\n",
       "      <td>The Wise Man's Fear (The Kingkiller Chronicle,...</td>\n",
       "      <td>245686</td>\n",
       "      <td>4.57</td>\n",
       "      <td>4.412228</td>\n",
       "    </tr>\n",
       "    <tr>\n",
       "      <th>174</th>\n",
       "      <td>The Last Olympian (Percy Jackson and the Olymp...</td>\n",
       "      <td>397500</td>\n",
       "      <td>4.50</td>\n",
       "      <td>4.404355</td>\n",
       "    </tr>\n",
       "    <tr>\n",
       "      <th>265</th>\n",
       "      <td>The Nightingale</td>\n",
       "      <td>253606</td>\n",
       "      <td>4.54</td>\n",
       "      <td>4.393959</td>\n",
       "    </tr>\n",
       "    <tr>\n",
       "      <th>560</th>\n",
       "      <td>The Way of Kings (The Stormlight Archive, #1)</td>\n",
       "      <td>144822</td>\n",
       "      <td>4.64</td>\n",
       "      <td>4.388088</td>\n",
       "    </tr>\n",
       "    <tr>\n",
       "      <th>1304</th>\n",
       "      <td>A Court of Mist and Fury (A Court of Thorns an...</td>\n",
       "      <td>108384</td>\n",
       "      <td>4.72</td>\n",
       "      <td>4.385582</td>\n",
       "    </tr>\n",
       "    <tr>\n",
       "      <th>188</th>\n",
       "      <td>The Lord of the Rings (The Lord of the Rings, ...</td>\n",
       "      <td>389054</td>\n",
       "      <td>4.47</td>\n",
       "      <td>4.378545</td>\n",
       "    </tr>\n",
       "    <tr>\n",
       "      <th>458</th>\n",
       "      <td>Clockwork Princess (The Infernal Devices, #3)</td>\n",
       "      <td>162099</td>\n",
       "      <td>4.59</td>\n",
       "      <td>4.373461</td>\n",
       "    </tr>\n",
       "    <tr>\n",
       "      <th>349</th>\n",
       "      <td>Clockwork Prince (The Infernal Devices, #2)</td>\n",
       "      <td>307994</td>\n",
       "      <td>4.46</td>\n",
       "      <td>4.352471</td>\n",
       "    </tr>\n",
       "  </tbody>\n",
       "</table>\n",
       "</div>"
      ],
      "text/plain": [
       "                                                  title  ratings_count  \\\n",
       "24    Harry Potter and the Deathly Hallows (Harry Po...        1746574   \n",
       "26    Harry Potter and the Half-Blood Prince (Harry ...        1678823   \n",
       "17    Harry Potter and the Prisoner of Azkaban (Harr...        1832823   \n",
       "23    Harry Potter and the Goblet of Fire (Harry Pot...        1753043   \n",
       "420            Harry Potter Boxset (Harry Potter, #1-7)         190050   \n",
       "134      A Storm of Swords (A Song of Ice and Fire, #3)         469022   \n",
       "191   The Name of the Wind (The Kingkiller Chronicle...         400101   \n",
       "20    Harry Potter and the Order of the Phoenix (Har...        1735368   \n",
       "1     Harry Potter and the Sorcerer's Stone (Harry P...        4602479   \n",
       "160   The Return of the King (The Lord of the Rings,...         463959   \n",
       "30                                             The Help        1531753   \n",
       "38       A Game of Thrones (A Song of Ice and Fire, #1)        1319204   \n",
       "305   The Wise Man's Fear (The Kingkiller Chronicle,...         245686   \n",
       "174   The Last Olympian (Percy Jackson and the Olymp...         397500   \n",
       "265                                     The Nightingale         253606   \n",
       "560       The Way of Kings (The Stormlight Archive, #1)         144822   \n",
       "1304  A Court of Mist and Fury (A Court of Thorns an...         108384   \n",
       "188   The Lord of the Rings (The Lord of the Rings, ...         389054   \n",
       "458       Clockwork Princess (The Infernal Devices, #3)         162099   \n",
       "349         Clockwork Prince (The Infernal Devices, #2)         307994   \n",
       "\n",
       "      average_rating     score  \n",
       "24              4.61  4.578799  \n",
       "26              4.54  4.511335  \n",
       "17              4.53  4.504116  \n",
       "23              4.53  4.502998  \n",
       "420             4.74  4.494936  \n",
       "134             4.54  4.449790  \n",
       "191             4.55  4.445309  \n",
       "20              4.46  4.436350  \n",
       "1               4.44  4.431189  \n",
       "160             4.51  4.424047  \n",
       "30              4.45  4.423970  \n",
       "38              4.45  4.420056  \n",
       "305             4.57  4.412228  \n",
       "174             4.50  4.404355  \n",
       "265             4.54  4.393959  \n",
       "560             4.64  4.388088  \n",
       "1304            4.72  4.385582  \n",
       "188             4.47  4.378545  \n",
       "458             4.59  4.373461  \n",
       "349             4.46  4.352471  "
      ]
     },
     "execution_count": 10,
     "metadata": {},
     "output_type": "execute_result"
    }
   ],
   "source": [
    "#Sort books based on score calculated above\n",
    "q_books = q_books.sort_values('score', ascending=False)\n",
    "\n",
    "# print the top 15 books\n",
    "q_books[['title', 'ratings_count', 'average_rating', 'score']].head(20)"
   ]
  },
  {
   "cell_type": "code",
   "execution_count": null,
   "metadata": {},
   "outputs": [],
   "source": []
  },
  {
   "cell_type": "markdown",
   "metadata": {},
   "source": [
    "## User-user Recommender"
   ]
  },
  {
   "cell_type": "code",
   "execution_count": null,
   "metadata": {},
   "outputs": [],
   "source": []
  }
 ],
 "metadata": {
  "kernelspec": {
   "display_name": "Python 3",
   "language": "python",
   "name": "python3"
  },
  "language_info": {
   "codemirror_mode": {
    "name": "ipython",
    "version": 3
   },
   "file_extension": ".py",
   "mimetype": "text/x-python",
   "name": "python",
   "nbconvert_exporter": "python",
   "pygments_lexer": "ipython3",
   "version": "3.8.2"
  }
 },
 "nbformat": 4,
 "nbformat_minor": 4
}
